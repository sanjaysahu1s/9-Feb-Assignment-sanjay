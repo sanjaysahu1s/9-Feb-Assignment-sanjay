{
 "cells": [
  {
   "cell_type": "markdown",
   "id": "847adbb7-db76-4977-981e-bb4bb638709c",
   "metadata": {},
   "source": [
    "Q1, Create a vehicle class with an init method having instance variables as name_of_vehicle, max_speed\n",
    "and average_of_vehicle."
   ]
  },
  {
   "cell_type": "code",
   "execution_count": 2,
   "id": "1dbda8fc-8a4a-447f-ad95-a5be9ad0ea5a",
   "metadata": {},
   "outputs": [
    {
     "name": "stdout",
     "output_type": "stream",
     "text": [
      "Tesla Model S\n",
      "250\n",
      "180\n"
     ]
    }
   ],
   "source": [
    "#Answer\n",
    "\n",
    "class Vehicle:\n",
    "    def __init__(self, name_of_vehicle, max_speed, average_of_vehicle):\n",
    "        self.name_of_vehicle = name_of_vehicle\n",
    "        self.max_speed = max_speed\n",
    "        self.average_of_vehicle = average_of_vehicle\n",
    "        \n",
    "        \n",
    "car = Vehicle(\"Tesla Model S\", 250, 180)\n",
    "print(car.name_of_vehicle)  \n",
    "print(car.max_speed)  \n",
    "print(car.average_of_vehicle) \n",
    "\n"
   ]
  },
  {
   "cell_type": "markdown",
   "id": "d768ab2e-88b4-43b3-a1dd-6c72edbb4923",
   "metadata": {},
   "source": [
    "                      -------------------------------------------------------------------"
   ]
  },
  {
   "cell_type": "markdown",
   "id": "491180f2-5135-481c-9aa5-c7f7f6e92a5f",
   "metadata": {},
   "source": [
    "Q2. Create a child class car from the vehicle class created in Que 1, which will inherit the vehicle class.\n",
    "Create a method named seating_capacity which takes capacity as an argument and returns the name of\n",
    "the vehicle and its seating capacity."
   ]
  },
  {
   "cell_type": "code",
   "execution_count": 3,
   "id": "83aa704a-fa4b-4e0c-9a2f-a27f0a2527f2",
   "metadata": {},
   "outputs": [
    {
     "name": "stdout",
     "output_type": "stream",
     "text": [
      "Tesla Model S has a seating capacity of 5 passengers.\n"
     ]
    }
   ],
   "source": [
    "#Answer\n",
    "\n",
    "class Car(Vehicle):\n",
    "    def seating_capacity(self, capacity):\n",
    "        return f\"{self.name_of_vehicle} has a seating capacity of {capacity} passengers.\"\n",
    "\n",
    "    \n",
    "car = Car(\"Tesla Model S\", 250, 180)\n",
    "print(car.seating_capacity(5)) \n"
   ]
  },
  {
   "cell_type": "markdown",
   "id": "61e7fe27-1fe2-442b-9990-ddf2b4958328",
   "metadata": {},
   "source": [
    "                      -------------------------------------------------------------------"
   ]
  },
  {
   "cell_type": "markdown",
   "id": "ee58e8fc-6392-4da0-a0c9-2443f93e661c",
   "metadata": {},
   "source": [
    "Q3. What is multiple inheritance? Write a python code to demonstrate multiple inheritance."
   ]
  },
  {
   "cell_type": "markdown",
   "id": "3dec1e85-718a-4d0f-b6f9-d26e59fbedbd",
   "metadata": {},
   "source": [
    "#Answer\n",
    "\n",
    "Multiple inheritance is a feature in object-oriented programming languages where a class can inherit attributes and methods from multiple parent classes. This means that a child class can inherit characteristics from more than one parent class, allowing for greater flexibility and code reuse."
   ]
  },
  {
   "cell_type": "code",
   "execution_count": 5,
   "id": "422eb212-8045-4673-8721-c874de23348e",
   "metadata": {},
   "outputs": [
    {
     "name": "stdout",
     "output_type": "stream",
     "text": [
      "The animal is eating.\n",
      "The mammal is walking.\n",
      "The dolphin is swimming.\n"
     ]
    }
   ],
   "source": [
    "#Example\n",
    "\n",
    "\n",
    "class Animal:\n",
    "    def eat(self):\n",
    "        print(\"The animal is eating.\")\n",
    "\n",
    "class Mammal:\n",
    "    def walk(self):\n",
    "        print(\"The mammal is walking.\")\n",
    "\n",
    "class Dolphin(Animal, Mammal):\n",
    "    def swim(self):\n",
    "        print(\"The dolphin is swimming.\")\n",
    "\n",
    "dolphin = Dolphin()\n",
    "\n",
    "dolphin.eat()  \n",
    "dolphin.walk()  \n",
    "dolphin.swim()  \n"
   ]
  },
  {
   "cell_type": "markdown",
   "id": "ab68aa9b-06e7-48ba-9454-ab662e3c7fc2",
   "metadata": {},
   "source": [
    "                      -------------------------------------------------------------------"
   ]
  },
  {
   "cell_type": "markdown",
   "id": "603d8454-0f91-4c58-9047-9330eaa2c9b0",
   "metadata": {},
   "source": [
    "Q4. What are getter and setter in python? Create a class and create a getter and a setter method in this\n",
    "class."
   ]
  },
  {
   "cell_type": "markdown",
   "id": "0cc729a9-8616-4ccc-8014-4951d945964e",
   "metadata": {},
   "source": [
    "#Answer\n",
    "\n",
    "In Python, getters and setters are methods used to access and modify the values of instance variables (attributes) of a class. They provide a way to encapsulate the access to the attributes, allowing for more controlled and consistent interaction with the class's data.\n",
    "\n",
    "A getter method retrieves the value of an attribute, while a setter method sets or updates the value of an attribute. By using getters and setters, you can add additional logic or validation when getting or setting attribute values."
   ]
  },
  {
   "cell_type": "code",
   "execution_count": 7,
   "id": "dc8d1fe1-3f5f-458e-b9c4-66eee6dcce49",
   "metadata": {},
   "outputs": [
    {
     "name": "stdout",
     "output_type": "stream",
     "text": [
      "30\n",
      "35\n",
      "Invalid age.\n",
      "35\n"
     ]
    }
   ],
   "source": [
    "class Person:\n",
    "    def __init__(self, name, age):\n",
    "        self.name = name\n",
    "        self._age = age\n",
    "\n",
    "    def get_age(self):\n",
    "        return self._age\n",
    "\n",
    "    def set_age(self, new_age):\n",
    "        if new_age >= 0:\n",
    "            self._age = new_age\n",
    "        else:\n",
    "            print(\"Invalid age.\")\n",
    "\n",
    "\n",
    "person = Person(\"John\", 30)\n",
    "\n",
    "print(person.get_age())  \n",
    "\n",
    "person.set_age(35)\n",
    "print(person.get_age()) \n",
    "\n",
    "person.set_age(-5)  \n",
    "print(person.get_age())  \n"
   ]
  },
  {
   "cell_type": "markdown",
   "id": "cefbaf43-6ff9-49ad-b189-2a56c6f188e8",
   "metadata": {},
   "source": [
    "                      -------------------------------------------------------------------"
   ]
  },
  {
   "cell_type": "markdown",
   "id": "d83dbde1-120b-428e-9820-73b17987c381",
   "metadata": {},
   "source": [
    "Q5.What is method overriding in python? Write a python code to demonstrate method overriding."
   ]
  },
  {
   "cell_type": "markdown",
   "id": "c5a79051-00f3-45dd-9314-7c3033effa09",
   "metadata": {},
   "source": [
    "#Answer\n",
    "\n",
    "Method overriding is a feature in object-oriented programming where a subclass provides its own implementation of a method that is already defined in its parent class. The overridden method in the subclass has the same name and parameters as the method in the parent class but provides a different implementation."
   ]
  },
  {
   "cell_type": "code",
   "execution_count": 8,
   "id": "10099a93-b25a-4f7c-a52b-e70ccf9002a2",
   "metadata": {},
   "outputs": [
    {
     "name": "stdout",
     "output_type": "stream",
     "text": [
      "Calculating area of Shape...\n",
      "Calculating area of Rectangle...\n"
     ]
    }
   ],
   "source": [
    "class Shape:\n",
    "    def area(self):\n",
    "        print(\"Calculating area of Shape...\")\n",
    "\n",
    "class Rectangle(Shape):\n",
    "    def area(self):\n",
    "        print(\"Calculating area of Rectangle...\")\n",
    "\n",
    "shape = Shape()\n",
    "rectangle = Rectangle()\n",
    "\n",
    "shape.area()  \n",
    "rectangle.area() \n"
   ]
  },
  {
   "cell_type": "markdown",
   "id": "4bd56842-96dd-463e-9a53-abe5f7acc2c6",
   "metadata": {},
   "source": [
    "                       -------------------------------------------------------------------"
   ]
  }
 ],
 "metadata": {
  "kernelspec": {
   "display_name": "Python 3 (ipykernel)",
   "language": "python",
   "name": "python3"
  },
  "language_info": {
   "codemirror_mode": {
    "name": "ipython",
    "version": 3
   },
   "file_extension": ".py",
   "mimetype": "text/x-python",
   "name": "python",
   "nbconvert_exporter": "python",
   "pygments_lexer": "ipython3",
   "version": "3.10.8"
  }
 },
 "nbformat": 4,
 "nbformat_minor": 5
}
